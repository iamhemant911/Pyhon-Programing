{
 "cells": [
  {
   "cell_type": "markdown",
   "metadata": {},
   "source": [
    "# General Utility Program"
   ]
  },
  {
   "cell_type": "code",
   "execution_count": 1,
   "metadata": {},
   "outputs": [
    {
     "name": "stdout",
     "output_type": "stream",
     "text": [
      "enter a no.:4\n",
      "even\n"
     ]
    }
   ],
   "source": [
    "# no is even or odd\n",
    "\n",
    "n=int(input('enter a no.:'))\n",
    "if n%2==0:\n",
    "    print('even')\n",
    "else:\n",
    "    print('odd')"
   ]
  },
  {
   "cell_type": "code",
   "execution_count": 2,
   "metadata": {},
   "outputs": [
    {
     "name": "stdout",
     "output_type": "stream",
     "text": [
      "enter a no.:5\n",
      "factorial of 5 is 120\n"
     ]
    }
   ],
   "source": [
    "# 2. factorial\n",
    "\n",
    "fact=1\n",
    "n=int(input('enter a no.:'))\n",
    "\n",
    "for i in range(1,n+1):\n",
    "    fact=fact*i\n",
    "print('factorial of',n, 'is',fact)"
   ]
  },
  {
   "cell_type": "code",
   "execution_count": 3,
   "metadata": {},
   "outputs": [
    {
     "name": "stdout",
     "output_type": "stream",
     "text": [
      "enter a no.:4\n",
      "factorial of 4 is 24\n"
     ]
    }
   ],
   "source": [
    "# 3. factorial using function\n",
    "\n",
    "def fact(n):\n",
    "    if n<=1:\n",
    "        return 1\n",
    "    else:\n",
    "        n=n*fact(n-1)\n",
    "        return n\n",
    "n=int(input('enter a no.:'))\n",
    "print('factorial of',n,'is',fact(n))"
   ]
  },
  {
   "cell_type": "code",
   "execution_count": 4,
   "metadata": {},
   "outputs": [
    {
     "name": "stdout",
     "output_type": "stream",
     "text": [
      "enter a no.:7\n",
      "7 is a prime number\n"
     ]
    }
   ],
   "source": [
    "# 4. prime number(logic 1)\n",
    "\n",
    "count=0\n",
    "n=int(input('enter a no.:'))\n",
    "\n",
    "for i in range(1,n+1):\n",
    "    if n%i==0:\n",
    "        count+=1\n",
    "if count ==2:\n",
    "    print(n,'is a prime number')\n",
    "else:\n",
    "    print(n,'not prime number')"
   ]
  },
  {
   "cell_type": "code",
   "execution_count": 5,
   "metadata": {},
   "outputs": [
    {
     "name": "stdout",
     "output_type": "stream",
     "text": [
      "enter a no.:45\n",
      "45 not prime number\n"
     ]
    }
   ],
   "source": [
    "# 5. prime number(logic 2)\n",
    "\n",
    "x=2\n",
    "ch=0\n",
    "n=int(input('enter a no.:'))\n",
    "\n",
    "if n<=1:\n",
    "    ch=1\n",
    "  \n",
    "while x<=n/2:\n",
    "    if n % x == 0:\n",
    "        ch=1\n",
    "        break\n",
    "    else:\n",
    "        x+=1\n",
    "        \n",
    "if ch ==0:\n",
    "    print(n,'is a prime number')\n",
    "else:\n",
    "    print(n,'not prime number')"
   ]
  },
  {
   "cell_type": "code",
   "execution_count": 10,
   "metadata": {},
   "outputs": [
    {
     "name": "stdout",
     "output_type": "stream",
     "text": [
      "enter N no.:6\n",
      "enter number:12\n",
      "enter number:13\n",
      "enter number:14\n",
      "enter number:15\n",
      "enter number:16\n",
      "enter number:17\n",
      "maximum element in the list is: 17\n",
      "minimum element in the list is: 12\n"
     ]
    }
   ],
   "source": [
    "# 6. Largest among n digit\n",
    "\n",
    "arr=[]\n",
    "num=int(input('enter N no.:'))\n",
    "for n in range(num):\n",
    "    numbers=int(input('enter number:'))\n",
    "    arr.append(numbers)\n",
    "print('maximum element in the list is:',max(arr))\n",
    "print('minimum element in the list is:',min(arr))"
   ]
  },
  {
   "cell_type": "code",
   "execution_count": 11,
   "metadata": {},
   "outputs": [
    {
     "name": "stdout",
     "output_type": "stream",
     "text": [
      "enter value of X:12\n",
      "enter value of Y:14\n",
      "before swapping\n",
      " X = 12 Y = 14\n",
      "after swapping\n",
      " X = 14 Y = 12\n"
     ]
    }
   ],
   "source": [
    "# 7. swap two numbers\n",
    "\n",
    "x=int(input('enter value of X:'))\n",
    "y=int(input('enter value of Y:'))\n",
    "print('before swapping\\n X =', x, 'Y =', y)\n",
    "temp=x\n",
    "x=y\n",
    "y=temp\n",
    "print('after swapping\\n X =', x, 'Y =', y)"
   ]
  },
  {
   "cell_type": "code",
   "execution_count": 12,
   "metadata": {},
   "outputs": [
    {
     "name": "stdout",
     "output_type": "stream",
     "text": [
      "enter value of X:10\n",
      "enter value of Y:20\n",
      "before swapping\n",
      " X = 10 Y = 20\n",
      "after swapping\n",
      " X = 20 Y = 10\n"
     ]
    }
   ],
   "source": [
    "# 8. swap two numbers(python way)\n",
    "\n",
    "x=int(input('enter value of X:'))\n",
    "y=int(input('enter value of Y:'))\n",
    "print('before swapping\\n X =', x, 'Y =', y)\n",
    "x,y=y,x\n",
    "print('after swapping\\n X =', x, 'Y =', y)"
   ]
  },
  {
   "cell_type": "code",
   "execution_count": 13,
   "metadata": {},
   "outputs": [
    {
     "name": "stdout",
     "output_type": "stream",
     "text": [
      "enter value of X:23\n",
      "enter value of Y:25\n",
      "before swapping\n",
      " X = 23 Y = 25\n",
      "after swapping\n",
      " X = 25 Y = 23\n"
     ]
    }
   ],
   "source": [
    "# 9. swap without using third variable\n",
    "\n",
    "x=int(input('enter value of X:'))\n",
    "y=int(input('enter value of Y:'))\n",
    "print('before swapping\\n X =', x, 'Y =', y)\n",
    "x=x+y\n",
    "y=x-y\n",
    "x=x-y\n",
    "print('after swapping\\n X =', x, 'Y =', y)"
   ]
  },
  {
   "cell_type": "code",
   "execution_count": 14,
   "metadata": {},
   "outputs": [
    {
     "name": "stdout",
     "output_type": "stream",
     "text": [
      "enter n for how many times generate series:5\n",
      "FIBONACCI SERIES\n",
      "  0   1  1  2  3  5  8"
     ]
    }
   ],
   "source": [
    "# 10. fibonacci series\n",
    "\n",
    "a=0\n",
    "b=1\n",
    "n=int(input('enter n for how many times generate series:'))\n",
    "print('FIBONACCI SERIES')\n",
    "print(' ',a,' ',b,end='')\n",
    "for i in range(n):\n",
    "    c=a+b\n",
    "    a=b\n",
    "    b=c\n",
    "    print(' ',c,end='')"
   ]
  },
  {
   "cell_type": "code",
   "execution_count": 17,
   "metadata": {},
   "outputs": [
    {
     "name": "stdout",
     "output_type": "stream",
     "text": [
      "enter the check palindrome:121\n",
      "yes, it is palindrome\n"
     ]
    }
   ],
   "source": [
    "# 11. palindrome (logic 1)\n",
    "\n",
    "str=input('enter the check palindrome:')\n",
    "str=str.casefold() # for caseless compare\n",
    "if(str==str[::-1]):\n",
    "    print('yes, it is palindrome')\n",
    "else:\n",
    "    print('no, it is palindrome')"
   ]
  },
  {
   "cell_type": "code",
   "execution_count": 16,
   "metadata": {},
   "outputs": [
    {
     "name": "stdout",
     "output_type": "stream",
     "text": [
      "enter the string to check palindrome:123\n",
      "no. it is palindrome\n"
     ]
    }
   ],
   "source": [
    "# 12. palindrome (logic 2)\n",
    "\n",
    "s1=input('enter the string to check palindrome:')\n",
    "s2=''\n",
    "for i in s1:\n",
    "    s2=i+s2\n",
    "if(s1==s2):\n",
    "    print('yes, it is palindrome')\n",
    "else:\n",
    "    print('no, it is palindrome')"
   ]
  },
  {
   "cell_type": "code",
   "execution_count": 18,
   "metadata": {},
   "outputs": [
    {
     "name": "stdout",
     "output_type": "stream",
     "text": [
      "enter no.:121\n",
      "yes, it is palindrome\n"
     ]
    }
   ],
   "source": [
    "# 13. palindrome number\n",
    "\n",
    "n=int(input('enter no.:'))\n",
    "temp=n\n",
    "rev=0\n",
    "while(n>0):\n",
    "    d= n % 10\n",
    "    rev=rev*10+d\n",
    "    n=n//10\n",
    "if(temp==rev):\n",
    "    print('yes, it is palindrome')\n",
    "else:\n",
    "    print('no. it is palindrome')"
   ]
  },
  {
   "cell_type": "code",
   "execution_count": 19,
   "metadata": {},
   "outputs": [
    {
     "name": "stdout",
     "output_type": "stream",
     "text": [
      "enter year to be checked:1998\n",
      "the year is not a leap year\n"
     ]
    }
   ],
   "source": [
    "# 14 leap year\n",
    "\n",
    "year=int(input('enter year to be checked:'))\n",
    "if(year%4==0 and year%100!=0 or year % 400==0):\n",
    "    print('the year is a leap year')\n",
    "else:\n",
    "    print('the year is not a leap year')"
   ]
  },
  {
   "cell_type": "code",
   "execution_count": 20,
   "metadata": {},
   "outputs": [
    {
     "name": "stdout",
     "output_type": "stream",
     "text": [
      "enter a no.:3\n",
      "3 is not a perfect number\n"
     ]
    }
   ],
   "source": [
    "# 15. perfect number\n",
    "\n",
    "i=1\n",
    "sum=0\n",
    "n=int(input('enter a no.:'))\n",
    "while i<n:\n",
    "    if(n%i==0):\n",
    "        sum=sum+i\n",
    "    i+=1 \n",
    "    \n",
    "if sum==n:\n",
    "     print(i,'is a perfect number')\n",
    "else:\n",
    "    print(i,'is not a perfect number')"
   ]
  },
  {
   "cell_type": "code",
   "execution_count": 21,
   "metadata": {},
   "outputs": [
    {
     "name": "stdout",
     "output_type": "stream",
     "text": [
      "enter the number153\n",
      "armstrong number\n"
     ]
    }
   ],
   "source": [
    "# 16. Armstrong number\n",
    "\n",
    "n=int(input('enter the number'))\n",
    "t=n\n",
    "r=0\n",
    "while(n>0):\n",
    "    a=n%10\n",
    "    r=r+a*a*a\n",
    "    n=n//10\n",
    "    \n",
    "if(r==t):\n",
    "     print('armstrong number')\n",
    "else:\n",
    "    print('not an armstrong number')"
   ]
  },
  {
   "cell_type": "code",
   "execution_count": 22,
   "metadata": {},
   "outputs": [
    {
     "name": "stdout",
     "output_type": "stream",
     "text": [
      "enter the number145\n",
      "145 is a strong no.\n"
     ]
    }
   ],
   "source": [
    "# 17. strong number\n",
    "\n",
    "num=int(input('enter the number'))\n",
    "save_num=num\n",
    "sum=0\n",
    "\n",
    "while(num):\n",
    "    i=1\n",
    "    p=1\n",
    "    r=num%10\n",
    "    while(i<=r):\n",
    "        p=p*i\n",
    "        i+=1\n",
    "    sum=sum+p\n",
    "    num=num//10\n",
    "    \n",
    "if(sum== save_num):\n",
    "    print(save_num,'is a strong no.')\n",
    "else:\n",
    "    print(save_num,'is not a strong no')"
   ]
  },
  {
   "cell_type": "code",
   "execution_count": 24,
   "metadata": {},
   "outputs": [
    {
     "name": "stdout",
     "output_type": "stream",
     "text": [
      "enter the number:9\n",
      "9 is a neon no.\n"
     ]
    }
   ],
   "source": [
    "# 18. neon number\n",
    "\n",
    "num=int(input('enter the number:'))\n",
    "sq=num*num\n",
    "\n",
    "sum=0\n",
    "while(sq>0):\n",
    "    sum=sum+sq%10\n",
    "    sq=sq//10\n",
    "    \n",
    "if(sum==num):\n",
    "     print(num,'is a neon no.')\n",
    "else:\n",
    "    print(num,'is not a neon no.')"
   ]
  },
  {
   "cell_type": "code",
   "execution_count": 25,
   "metadata": {},
   "outputs": [
    {
     "name": "stdout",
     "output_type": "stream",
     "text": [
      "enter the no.25\n",
      "square of 25 is 625\n",
      "25 ia an automorphic no.\n"
     ]
    }
   ],
   "source": [
    "# 19. automorphic number\n",
    "\n",
    "n=int(input('enter the no.'))\n",
    "num=n\n",
    "sq=n*n\n",
    "t=10\n",
    "equal=False\n",
    "\n",
    "print('square of', n,'is',sq)\n",
    "\n",
    "while(n>0):\n",
    "    r=sq%t\n",
    "    if(num==r):\n",
    "        equal=True\n",
    "        break\n",
    "    n=n//10\n",
    "    t=t*10\n",
    "    \n",
    "if(equal):    \n",
    "     print(num,'ia an automorphic no.')\n",
    "else:\n",
    "    print(num,'ia not an automorphic no.')"
   ]
  },
  {
   "cell_type": "code",
   "execution_count": 26,
   "metadata": {},
   "outputs": [
    {
     "name": "stdout",
     "output_type": "stream",
     "text": [
      "enter the no.:2114\n",
      "given no. is a spy no.\n"
     ]
    }
   ],
   "source": [
    "# 20. spy number\n",
    "\n",
    "sum=0\n",
    "prod=1\n",
    "n=int(input('enter the no.:'))\n",
    "\n",
    "while(n>0):\n",
    "    r=n%10\n",
    "    sum=sum+r\n",
    "    prod=prod+r\n",
    "    n=n//10\n",
    "    \n",
    "if(sum==prod):\n",
    "    print('given no. is a spy no.')\n",
    "else:\n",
    "    print('given no. is a spy no.')"
   ]
  },
  {
   "cell_type": "code",
   "execution_count": 27,
   "metadata": {},
   "outputs": [
    {
     "name": "stdout",
     "output_type": "stream",
     "text": [
      "enter the no.:19\n",
      "happy no.\n"
     ]
    }
   ],
   "source": [
    "# 21. happy number\n",
    "\n",
    "sum=0\n",
    "num=int(input('enter the no.:'))\n",
    "while(sum!=1 and sum!=4):\n",
    "    sum=0\n",
    "    while(num>0):\n",
    "        temp=num%10\n",
    "        sum+=(temp*temp)\n",
    "        num=num//10\n",
    "    num=sum\n",
    "    \n",
    "if(sum==1):\n",
    "    print('happy no.')\n",
    "else:\n",
    "    print('unhappy no.')"
   ]
  },
  {
   "cell_type": "code",
   "execution_count": 28,
   "metadata": {},
   "outputs": [
    {
     "name": "stdout",
     "output_type": "stream",
     "text": [
      "enter tge no.:3\n",
      "3 ia a sunny no.\n"
     ]
    }
   ],
   "source": [
    "# 22. sunny number\n",
    "\n",
    "import math\n",
    "\n",
    "num=int(input('enter tge no.:'))\n",
    "x=math.sqrt(num+1)\n",
    "if int(x)==x:\n",
    "    print(num,'ia a sunny no.')\n",
    "else:\n",
    "    print(num,'ia not a sunny no.')  "
   ]
  },
  {
   "cell_type": "code",
   "execution_count": 29,
   "metadata": {},
   "outputs": [
    {
     "name": "stdout",
     "output_type": "stream",
     "text": [
      "entera 3 digit no.:273\n",
      "273 ia a Fascinating no.\n"
     ]
    }
   ],
   "source": [
    "# 23. fascinating number\n",
    "\n",
    "def isFascinating(n1):\n",
    "    n2=n1*2\n",
    "    n3=n1*3\n",
    "    freq=[0]*10\n",
    "    \n",
    "    while n1!=0:\n",
    "        freq[n1%10]+=1\n",
    "        n1=n1//10\n",
    "   \n",
    "    while n2!=0:\n",
    "        freq[n2%10]+=1\n",
    "        n2=n2//10\n",
    "    \n",
    "    while n3!=0:\n",
    "        freq[n3%10]+=1\n",
    "        n3=n3//10\n",
    "    for i in range(1,10):\n",
    "        if(freq[i]!=1):\n",
    "            return False\n",
    "    return True\n",
    "num=int(input('entera 3 digit no.:'))\n",
    "\n",
    "if isFascinating(num)==True:\n",
    "    print(num,'ia a Fascinating no.')\n",
    "else:\n",
    "    print(num,'ia not a Fascinating no.')    "
   ]
  },
  {
   "cell_type": "code",
   "execution_count": 30,
   "metadata": {},
   "outputs": [
    {
     "name": "stdout",
     "output_type": "stream",
     "text": [
      "enter a number175\n",
      "175 ia a disarium no.\n"
     ]
    }
   ],
   "source": [
    "# 24. disarium number\n",
    "\n",
    "sum=0\n",
    "digit_count=0\n",
    "num=int(input('enter a number'))\n",
    "\n",
    "temp=num\n",
    "while temp!=0:\n",
    "    temp=temp//10\n",
    "    digit_count+=1\n",
    "\n",
    "temp=num        \n",
    "while temp!=0:\n",
    "    pd=temp%10\n",
    "    sum=sum+pow(pd,digit_count)\n",
    "    temp=temp//10\n",
    "    digit_count-=1\n",
    "\n",
    "if sum==num:\n",
    "    print(num,'ia a disarium no.')\n",
    "else:\n",
    "    print(num,'ia not a disarium no.')    "
   ]
  },
  {
   "cell_type": "code",
   "execution_count": 31,
   "metadata": {},
   "outputs": [
    {
     "name": "stdout",
     "output_type": "stream",
     "text": [
      "enter a number42\n",
      "42 is a pronic no. as it is the product of two consecutive no.: 6 and 7\n"
     ]
    }
   ],
   "source": [
    "# 25. pronic number\n",
    "\n",
    "num=int(input('enter a number'))\n",
    "flag=0\n",
    "for n in range(num+1):\n",
    "    if(n*(n+1)==num):\n",
    "        flag=1\n",
    "        break\n",
    "        \n",
    "if(flag==1):\n",
    "    print(num,'is a pronic no. as it is the product of two consecutive no.:',n,'and',n+1)\n",
    "else:\n",
    "    print(num,'is not a pronic no.')"
   ]
  },
  {
   "cell_type": "code",
   "execution_count": 32,
   "metadata": {},
   "outputs": [
    {
     "name": "stdout",
     "output_type": "stream",
     "text": [
      "enter a number25\n",
      "number is a trimorphic number\n"
     ]
    }
   ],
   "source": [
    "# 26. trimorphic number\n",
    "\n",
    "num=int(input('enter a number'))\n",
    "cube=n*n*n\n",
    "flag=1\n",
    "while n!=0:\n",
    "    if(n%10!=cube%10):\n",
    "        flag=0\n",
    "        break\n",
    "    n=n//10\n",
    "    cube=cube//10\n",
    "        \n",
    "if(flag==1):\n",
    "    print('number is a trimorphic number')\n",
    "else:\n",
    "    print('no. is not a trimorphic no.')"
   ]
  },
  {
   "cell_type": "code",
   "execution_count": 33,
   "metadata": {},
   "outputs": [
    {
     "name": "stdout",
     "output_type": "stream",
     "text": [
      "enter a no.:12\n",
      "evil no.\n"
     ]
    }
   ],
   "source": [
    "# 27. evil-odious number\n",
    "\n",
    "n=int(input('enter a no.:'))\n",
    "count=0\n",
    "while n!=0:\n",
    "    if(n%2==1):\n",
    "        count+=1\n",
    "    n=n//2\n",
    "    \n",
    "if(count%2==0):\n",
    "    print('evil no.')\n",
    "else:\n",
    "    print('odious no.')"
   ]
  },
  {
   "cell_type": "code",
   "execution_count": 37,
   "metadata": {},
   "outputs": [
    {
     "name": "stdout",
     "output_type": "stream",
     "text": [
      "enter a number10\n",
      "factorial of numbers between 1 to 10\n",
      "number:factorial\n",
      "1 : 1\n",
      "2 : 2\n",
      "3 : 6\n",
      "4 : 24\n",
      "5 : 120\n",
      "6 : 720\n",
      "7 : 5040\n",
      "8 : 40320\n",
      "9 : 362880\n",
      "10 : 3628800\n"
     ]
    }
   ],
   "source": [
    "# 28. factorial of each number(1 to n)\n",
    "\n",
    "n=int(input('enter a number'))\n",
    "print('factorial of numbers between 1 to', n)\n",
    "print('number:factorial')\n",
    "\n",
    "for i in range(1,n+1):\n",
    "    cn=i\n",
    "    fact=1\n",
    "    for j in range(1,cn+1):\n",
    "        fact=fact*j\n",
    "    print(cn,':',fact)    "
   ]
  },
  {
   "cell_type": "code",
   "execution_count": 38,
   "metadata": {},
   "outputs": [
    {
     "name": "stdout",
     "output_type": "stream",
     "text": [
      "enter a number:50\n",
      "list of prime numbers between 1 to 50\n",
      "2\n",
      "3\n",
      "5\n",
      "7\n",
      "11\n",
      "13\n",
      "17\n",
      "19\n",
      "23\n",
      "29\n",
      "31\n",
      "37\n",
      "41\n",
      "43\n",
      "47\n"
     ]
    }
   ],
   "source": [
    "# 29. all prime numbers between 1 to n\n",
    "\n",
    "count=0\n",
    "n=int(input('enter a number:'))\n",
    "print('list of prime numbers between 1 to',n)\n",
    "\n",
    "for i in range(1,n+1):\n",
    "    cn=i\n",
    "    count=0\n",
    "    for j in range(1,cn+1):\n",
    "        if cn%j==0:\n",
    "            count+=1\n",
    "    if count==2:\n",
    "        print(cn)"
   ]
  },
  {
   "cell_type": "code",
   "execution_count": null,
   "metadata": {},
   "outputs": [
    {
     "name": "stdout",
     "output_type": "stream",
     "text": [
      "enter the no.233\n",
      "list of automorphic numbers between 1 to 233\n",
      "number:square\n"
     ]
    }
   ],
   "source": [
    "# 30 all automorphic numbers between 1 to n\n",
    "\n",
    "n=int(input('enter the no.'))\n",
    "print('list of automorphic numbers between 1 to', n)\n",
    "print('number:square')\n",
    "for i in range(1,n+1):\n",
    "    cn=i\n",
    "    num=i\n",
    "    sq=cn*cn\n",
    "    t=10\n",
    "    equal=False\n",
    "\n",
    "\n",
    "    while(n>0):\n",
    "        r=sq%t\n",
    "        if(num==r):\n",
    "            equal=True\n",
    "            break\n",
    "        cn=cn//10\n",
    "        t=t*10\n",
    "    \n",
    "if equal==True:    \n",
    "     print(num,':',sq)"
   ]
  },
  {
   "cell_type": "code",
   "execution_count": 40,
   "metadata": {},
   "outputs": [
    {
     "name": "stdout",
     "output_type": "stream",
     "text": [
      "enter the starting number:10\n",
      "enter the ending number:15\n",
      "list of spy numbers between 10 - 15\n"
     ]
    }
   ],
   "source": [
    "# 31. all spy numbers 1 to n\n",
    "\n",
    "lw=int(input('enter the starting number:'))\n",
    "up=int(input('enter the ending number:'))\n",
    "print('list of spy numbers between',lw,'-',up)\n",
    "for i in range(lw,up+1): #lw-lower limit, up- upper limit\n",
    "    sum=0\n",
    "    prod=1\n",
    "    n=i\n",
    "    while(n>0):\n",
    "        d=n%10\n",
    "        sum=sum+d\n",
    "        prod=prod*d\n",
    "        n=n//10\n",
    "    \n",
    "    if sum==prod:\n",
    "        print(i)"
   ]
  },
  {
   "cell_type": "code",
   "execution_count": 33,
   "metadata": {},
   "outputs": [
    {
     "name": "stdout",
     "output_type": "stream",
     "text": [
      "enter the number(uooer limit):10\n",
      "1\n"
     ]
    }
   ],
   "source": [
    "# 32. all happy numbers between 1 to n\n",
    "limit=int(input('enter the number(upper limit):'))\n",
    "for i in range(1,limit+1):\n",
    "    num=1\n",
    "    sum=0\n",
    "    while(sum!=1 and sum!=4):\n",
    "        sum=0\n",
    "        while(num>0):\n",
    "            temp=num%10\n",
    "            sum+=(temp*temp)\n",
    "            num=num//10\n",
    "        num=sum\n",
    "    \n",
    "if(sum==1):\n",
    "    print(1)"
   ]
  },
  {
   "cell_type": "code",
   "execution_count": 32,
   "metadata": {},
   "outputs": [
    {
     "name": "stdout",
     "output_type": "stream",
     "text": [
      "enter a no.(upper limit):24\n",
      "list of sunny numbers between 1 to 24\n",
      "3\n",
      "8\n",
      "15\n",
      "24\n"
     ]
    }
   ],
   "source": [
    "# 33. all sunny numbers between 1 to n\n",
    "\n",
    "import math\n",
    "\n",
    "limit=int(input('enter a no.(upper limit):'))\n",
    "print('list of sunny numbers between 1 to',limit)\n",
    "for i in range(1,limit+1):\n",
    "    x=math.sqrt(i+1)\n",
    "    if int(x)==x:\n",
    "        print(i)"
   ]
  },
  {
   "cell_type": "code",
   "execution_count": 30,
   "metadata": {},
   "outputs": [
    {
     "name": "stdout",
     "output_type": "stream",
     "text": [
      "generating all 3 digit fascinating numbers\n"
     ]
    }
   ],
   "source": [
    "# 34. all fascinating numbers between 1 to n\n",
    "\n",
    "def isFascinating(n1):\n",
    "    n2=n1*2\n",
    "    n3=n1*3\n",
    "    freq=[0]*10\n",
    "    \n",
    "    while n1!=0:\n",
    "        freq[n1%10]+=1\n",
    "        n1=n1//10\n",
    "   \n",
    "    while n2!=0:\n",
    "        freq[n2%10]+=1\n",
    "        n2=n2//10\n",
    "    \n",
    "    while n3!=0:\n",
    "        freq[n3%10]+=1\n",
    "        n3=n3//10\n",
    "    for i in range(1,10):\n",
    "        if(freq[i]!=1):\n",
    "            return False\n",
    "    return True\n",
    "print('generating all 3 digit fascinating numbers')\n",
    "\n",
    "for i in range(100,1000):\n",
    "    if isFascinating(num)==True:\n",
    "        print(i)\n"
   ]
  },
  {
   "cell_type": "code",
   "execution_count": 1,
   "metadata": {},
   "outputs": [
    {
     "name": "stdout",
     "output_type": "stream",
     "text": [
      "enter the numbers(upper limit):89\n",
      "disarium numbers between 1 to 89\n",
      "1\n",
      "2\n",
      "3\n",
      "4\n",
      "5\n",
      "6\n",
      "7\n",
      "8\n",
      "9\n",
      "89\n"
     ]
    }
   ],
   "source": [
    "# 35. all disarium numbers between 1 to n\n",
    "\n",
    "def digit_count(n):\n",
    "    count=0\n",
    "    while n!=0:\n",
    "        n=n//10\n",
    "        count+=1\n",
    "    return count\n",
    "\n",
    "def isDisarium(n):\n",
    "    dc=digit_count(n)\n",
    "    sum=0\n",
    "    t=n\n",
    "    \n",
    "    while t!=0:\n",
    "        pd=t%10\n",
    "        sum=sum+pow(pd,dc)\n",
    "        dc-=1\n",
    "        t=t//10\n",
    "\n",
    "    if sum==n:\n",
    "        return True\n",
    "    else:\n",
    "        return False\n",
    "    \n",
    "limit=int(input('enter the numbers(upper limit):'))\n",
    "print('disarium numbers between 1 to',limit)\n",
    "for i in range(1,limit+1):\n",
    "    if (isDisarium(i)==True):\n",
    "        print(i)"
   ]
  },
  {
   "cell_type": "code",
   "execution_count": 21,
   "metadata": {},
   "outputs": [
    {
     "name": "stdout",
     "output_type": "stream",
     "text": [
      "enter a number56\n",
      "0\n",
      "2\n",
      "6\n",
      "12\n",
      "20\n",
      "30\n",
      "42\n",
      "56\n"
     ]
    }
   ],
   "source": [
    "# 36. all pronic numbers between 1 to n\n",
    "\n",
    "limit=int(input('enter a number'))\n",
    "for i in range(limit+1):\n",
    "    flag=0\n",
    "    for n in range(i+1):\n",
    "        if(n*(n+1)==i):\n",
    "            flag=1\n",
    "            break\n",
    "        \n",
    "    if(flag==1):\n",
    "        print(i)"
   ]
  },
  {
   "cell_type": "code",
   "execution_count": 19,
   "metadata": {},
   "outputs": [
    {
     "name": "stdout",
     "output_type": "stream",
     "text": [
      "enter the no.:45\n",
      "trimorphic numbers between 1 to 45\n",
      "1\n",
      "4\n",
      "5\n",
      "6\n",
      "9\n",
      "24\n",
      "25\n"
     ]
    }
   ],
   "source": [
    "# 37. all trimorphic numbers between 1 to n\n",
    "\n",
    "def isTrimorphic(n):\n",
    "    cube=n*n*n\n",
    "    flag=1\n",
    "    while n!=0:\n",
    "        if(n%10!=cube%10):\n",
    "            flag=0\n",
    "            break\n",
    "        n=n//10\n",
    "        cube=cube//10\n",
    "        \n",
    "    if(flag==1):\n",
    "        return 1\n",
    "    else:\n",
    "        return 0\n",
    "limit=int(input('enter the no.:'))\n",
    "print('trimorphic numbers between 1 to',limit)\n",
    "for i in range(1,limit+1):\n",
    "    if(isTrimorphic(i)==1):\n",
    "        print(i)"
   ]
  },
  {
   "cell_type": "code",
   "execution_count": 43,
   "metadata": {},
   "outputs": [
    {
     "name": "stdout",
     "output_type": "stream",
     "text": [
      "enter the number:15\n",
      "evil numbers between 1 to 15\n",
      "3\n",
      "5\n",
      "6\n",
      "9\n",
      "10\n",
      "12\n",
      "15\n"
     ]
    }
   ],
   "source": [
    "# 38. all evil numbers between 1 to n\n",
    "\n",
    "limit=int(input('enter the number:'))\n",
    "print('evil numbers between 1 to',limit)\n",
    "for i in range(1,limit+1):\n",
    "    num=i\n",
    "    count=0\n",
    "    while num!=0:\n",
    "        if(num%2==1):\n",
    "            count+=1\n",
    "        num//=2\n",
    "    \n",
    "    if(count%2==0):\n",
    "        print(i)"
   ]
  },
  {
   "cell_type": "code",
   "execution_count": 14,
   "metadata": {},
   "outputs": [
    {
     "name": "stdout",
     "output_type": "stream",
     "text": [
      "enter the no. of rows of floyd's triangle:24\n",
      "1\n",
      "23\n",
      "456\n",
      "78910\n",
      "1112131415\n",
      "161718192021\n",
      "22232425262728\n",
      "2930313233343536\n",
      "373839404142434445\n",
      "46474849505152535455\n",
      "5657585960616263646566\n",
      "676869707172737475767778\n",
      "79808182838485868788899091\n",
      "9293949596979899100101102103104105\n",
      "106107108109110111112113114115116117118119120\n",
      "121122123124125126127128129130131132133134135136\n",
      "137138139140141142143144145146147148149150151152153\n",
      "154155156157158159160161162163164165166167168169170171\n",
      "172173174175176177178179180181182183184185186187188189190\n",
      "191192193194195196197198199200201202203204205206207208209210\n",
      "211212213214215216217218219220221222223224225226227228229230231\n",
      "232233234235236237238239240241242243244245246247248249250251252253\n",
      "254255256257258259260261262263264265266267268269270271272273274275276\n",
      "277278279280281282283284285286287288289290291292293294295296297298299300\n"
     ]
    }
   ],
   "source": [
    "# 39. floyd triangle\n",
    "\n",
    "n=int(input(\"enter the no. of rows of floyd's triangle:\"))\n",
    "a=1\n",
    "for i in range(1,n+1):\n",
    "    for j in range(1,i+1):\n",
    "        print(a,end='')\n",
    "        a+=1\n",
    "    print()    "
   ]
  },
  {
   "cell_type": "code",
   "execution_count": 13,
   "metadata": {},
   "outputs": [
    {
     "name": "stdout",
     "output_type": "stream",
     "text": [
      "enter a number to reverse:123\n",
      "reverse of entered number is 321\n"
     ]
    }
   ],
   "source": [
    "# 41. reverse number\n",
    "\n",
    "n=int(input('enter a number to reverse:'))\n",
    "rev=0\n",
    "while (n!=0):\n",
    "    rev=rev*10\n",
    "    rev=rev+n%10\n",
    "    n=n//10\n",
    "print('reverse of entered number is', rev)    "
   ]
  },
  {
   "cell_type": "code",
   "execution_count": 12,
   "metadata": {},
   "outputs": [
    {
     "name": "stdout",
     "output_type": "stream",
     "text": [
      "enter a number156\n",
      "sum of digits of the numbers is 12\n"
     ]
    }
   ],
   "source": [
    "# 42. sum of digit\n",
    "\n",
    "n=int(input('enter a number'))\n",
    "sum=0\n",
    "while(n>0):\n",
    "    x=n%10\n",
    "    sum=sum+x\n",
    "    n=n//10\n",
    "print('sum of digits of the numbers is', sum)    "
   ]
  },
  {
   "cell_type": "code",
   "execution_count": 11,
   "metadata": {},
   "outputs": [
    {
     "name": "stdout",
     "output_type": "stream",
     "text": [
      "enter a number:45\n",
      "enter power:8\n",
      "45 to the power 8 is: 16815125390625\n"
     ]
    }
   ],
   "source": [
    "# 43. power of given number\n",
    "\n",
    "num=int(input('enter a number:'))\n",
    "pow=int(input('enter power:'))\n",
    "sum=1\n",
    "i=1\n",
    "while(i<=pow):\n",
    "    sum=sum*num\n",
    "    i+=1\n",
    "print(num,'to the power',pow,'is:',sum)    "
   ]
  },
  {
   "cell_type": "code",
   "execution_count": 10,
   "metadata": {},
   "outputs": [
    {
     "name": "stdout",
     "output_type": "stream",
     "text": [
      "enter a number:34\n",
      "total digits in the no. is 2\n"
     ]
    }
   ],
   "source": [
    "# 44. count the digit in a number\n",
    "\n",
    "num=int(input('enter a number:'))\n",
    "count=0\n",
    "while (num>0):\n",
    "    num=num//10\n",
    "    count+=1\n",
    "print('total digits in the no. is',count)    "
   ]
  },
  {
   "cell_type": "code",
   "execution_count": 9,
   "metadata": {},
   "outputs": [
    {
     "name": "stdout",
     "output_type": "stream",
     "text": [
      "enter the number of random no.10\n",
      "enter the maximum value of random no.100\n",
      "10 random no. between 0 to 100\n",
      "33\n",
      "89\n",
      "75\n",
      "3\n",
      "31\n",
      "24\n",
      "70\n",
      "60\n",
      "44\n",
      "70\n"
     ]
    }
   ],
   "source": [
    "# 45. random number generator\n",
    "\n",
    "import random\n",
    "num=int(input('enter the number of random no.'))\n",
    "max=int(input('enter the maximum value of random no.'))\n",
    "print(num,'random no. between 0 to',max)\n",
    "\n",
    "for i in range(num):\n",
    "    print(random.randint(0,max))"
   ]
  },
  {
   "cell_type": "code",
   "execution_count": 7,
   "metadata": {},
   "outputs": [
    {
     "name": "stdout",
     "output_type": "stream",
     "text": [
      "enter the temp. in centigrade:23.7\n",
      "temperature in fahrenheit=74.66\n"
     ]
    }
   ],
   "source": [
    "# 46. celsius to fahrenheit\n",
    "\n",
    "c=float(input('enter the temp. in centigrade:'))\n",
    "f=(1.8*c)+32\n",
    "#c=((f-32)*5/9)\n",
    "print('temperature in fahrenheit={0:.2f}'.format(f))"
   ]
  },
  {
   "cell_type": "code",
   "execution_count": 6,
   "metadata": {},
   "outputs": [
    {
     "name": "stdout",
     "output_type": "stream",
     "text": [
      "enter first string:coal\n",
      "enter second string:cola\n",
      "the strings are anagrams.\n"
     ]
    }
   ],
   "source": [
    "# 47. anagram\n",
    "\n",
    "s1=input('enter first string:')\n",
    "s2=input('enter second string:')\n",
    "if sorted(s1)==sorted(s2):\n",
    "    print('the strings are anagrams.')\n",
    "else:\n",
    "    print(\"the strings aren't anagrams\")"
   ]
  },
  {
   "cell_type": "code",
   "execution_count": 4,
   "metadata": {},
   "outputs": [
    {
     "name": "stdout",
     "output_type": "stream",
     "text": [
      "enter the number:12\n",
      "super digit of the given number is 3\n"
     ]
    }
   ],
   "source": [
    "# 48. super digit\n",
    "\n",
    "n=int(input('enter the number:'))\n",
    "while(n>=10):\n",
    "    x=n\n",
    "    s=0\n",
    "    while (x>0):\n",
    "        s=s+(x%10)\n",
    "        x=x//10\n",
    "    n=s\n",
    "print('super digit of the given number is',n)    "
   ]
  },
  {
   "cell_type": "code",
   "execution_count": 3,
   "metadata": {},
   "outputs": [
    {
     "name": "stdout",
     "output_type": "stream",
     "text": [
      "enter the first number23\n",
      "enter the second24\n",
      "LCM is: 552\n"
     ]
    }
   ],
   "source": [
    "# 49. lCM\n",
    "\n",
    "a=int(input('enter the first number'))\n",
    "b=int(input('enter the second'))\n",
    "if(a>b):\n",
    "    min=a\n",
    "else:\n",
    "    min=b\n",
    "while(1):\n",
    "    if (min%a==0 and min % b==0):\n",
    "        print(\"LCM is:\",min)\n",
    "        break\n",
    "    min=min+1    "
   ]
  },
  {
   "cell_type": "code",
   "execution_count": 2,
   "metadata": {},
   "outputs": [
    {
     "name": "stdout",
     "output_type": "stream",
     "text": [
      "enter the first number12\n",
      "enter the second24\n",
      "GCD is: 12\n"
     ]
    }
   ],
   "source": [
    "# 50. HCF/GCD\n",
    "\n",
    "def gcd(a,b):\n",
    "    if(b==0):\n",
    "        return a\n",
    "    else:\n",
    "        return gcd(b,a%b)\n",
    "a=int(input('enter the first number'))\n",
    "b=int(input('enter the second'))\n",
    "ans=gcd(a,b)\n",
    "print('GCD is:',ans)\n",
    "    "
   ]
  },
  {
   "cell_type": "markdown",
   "metadata": {},
   "source": [
    "# Searching"
   ]
  },
  {
   "cell_type": "code",
   "execution_count": 45,
   "metadata": {},
   "outputs": [
    {
     "name": "stdout",
     "output_type": "stream",
     "text": [
      "list has the item: [4, 12, 7, 45, 52, 64, 71, 84, 27, 72]\n",
      "enter a number to search45\n",
      "45 is present in the list at index 3\n"
     ]
    }
   ],
   "source": [
    "# 1. linear search\n",
    "\n",
    "numlist=[4,12,7,45,52,64,71,84,27,72]\n",
    "print('list has the item:',numlist)\n",
    "searchnum=int(input('enter a number to search'))\n",
    "found=False\n",
    "for i in range (len(numlist)):\n",
    "    if numlist[i]==searchnum:\n",
    "        found=True\n",
    "        print(searchnum,'is present in the list at index',i)\n",
    "        break\n",
    "if found==False:\n",
    "    print(searchnum,'is not found in the list')"
   ]
  },
  {
   "cell_type": "code",
   "execution_count": 48,
   "metadata": {},
   "outputs": [
    {
     "name": "stdout",
     "output_type": "stream",
     "text": [
      "list has the item: [4, 12, 7, 45, 52, 64, 71, 84, 27, 72]\n",
      "enter a number to search52\n",
      "45 is present in  the list\n"
     ]
    }
   ],
   "source": [
    "# 2. binary search\n",
    "\n",
    "def binary_search(list,item):\n",
    "    first=0\n",
    "    last=len(list)-1\n",
    "    found=False\n",
    "    while(first<=last and not found):\n",
    "        mid=(first+last)//2\n",
    "        if list[mid]==item:\n",
    "            found=True\n",
    "        else:\n",
    "            if item < list[mid]:\n",
    "                last=mid-1\n",
    "            else:\n",
    "                first=mid+1\n",
    "    return found\n",
    "numlist=[4,12,7,45,52,64,71,84,27,72]\n",
    "print('list has the item:',numlist)\n",
    "serchnum=int(input('enter a number to search'))\n",
    "found=binary_search(numlist,searchnum)\n",
    "if found== True:\n",
    "    print(searchnum,'is present in  the list')\n",
    "else:\n",
    "    print(searchnum,'is not found in the list')"
   ]
  },
  {
   "cell_type": "code",
   "execution_count": 51,
   "metadata": {},
   "outputs": [
    {
     "name": "stdout",
     "output_type": "stream",
     "text": [
      "list has the item: [4, 12, 7, 45, 52, 64, 71, 84, 27, 72]\n",
      "enter a number too search52\n",
      "52 is present in the list\n"
     ]
    }
   ],
   "source": [
    "# 3. recurive binary search\n",
    "\n",
    "def binary_search(alist,item):\n",
    "    if len(alist)==0:\n",
    "        return False\n",
    "    else:\n",
    "        midpoint=len(alist)//2\n",
    "        if alist[midpoint]==item:\n",
    "            return True\n",
    "        else:\n",
    "            if item<alist[midpoint]:\n",
    "                return binary_search(alist[:midpoint],item)\n",
    "            else:\n",
    "                return binary_search(alist[midpoint+1:],item)\n",
    "numlist=[4,12,7,45,52,64,71,84,27,72]\n",
    "print('list has the item:',numlist)\n",
    "searchnum=int(input('enter a number too search'))\n",
    "found=binary_search(numlist,searchnum)\n",
    "if found==True:\n",
    "    print(searchnum,'is present in the list')\n",
    "else:\n",
    "    print(searchnum,'is not found in the list')"
   ]
  }
 ],
 "metadata": {
  "kernelspec": {
   "display_name": "Python 3",
   "language": "python",
   "name": "python3"
  },
  "language_info": {
   "codemirror_mode": {
    "name": "ipython",
    "version": 3
   },
   "file_extension": ".py",
   "mimetype": "text/x-python",
   "name": "python",
   "nbconvert_exporter": "python",
   "pygments_lexer": "ipython3",
   "version": "3.7.6"
  }
 },
 "nbformat": 4,
 "nbformat_minor": 4
}
