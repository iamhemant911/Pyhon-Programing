{
 "cells": [
  {
   "cell_type": "markdown",
   "metadata": {},
   "source": [
    "# sorting"
   ]
  },
  {
   "cell_type": "code",
   "execution_count": 1,
   "metadata": {},
   "outputs": [
    {
     "name": "stdout",
     "output_type": "stream",
     "text": [
      "array before sorting:\n",
      "[74, 11, 7, 14, 35]\n",
      "\n",
      "array after sorting:\n",
      "[7, 11, 14, 35, 74]\n"
     ]
    }
   ],
   "source": [
    "# 1. insertion sort\n",
    "\n",
    "def insertion_sort(arr):\n",
    "    for i in range(len(arr)):\n",
    "        temp=arr[i]\n",
    "        pos=i\n",
    "        \n",
    "        \n",
    "        while pos>0 and arr[pos-1]>temp:\n",
    "            arr[pos]=arr[pos-1]\n",
    "            pos=pos-1\n",
    "        arr[pos]=temp\n",
    "    return arr\n",
    "\n",
    "num_arr=[74,11,7,14,35]\n",
    "print('array before sorting:')\n",
    "print(num_arr)\n",
    "\n",
    "insertion_sort(num_arr)\n",
    "\n",
    "print('\\narray after sorting:')\n",
    "print(num_arr)"
   ]
  },
  {
   "cell_type": "code",
   "execution_count": 3,
   "metadata": {},
   "outputs": [
    {
     "name": "stdout",
     "output_type": "stream",
     "text": [
      "array before sorting:\n",
      "[11, 1, 77, 84, 9]\n",
      "\n",
      "array after sorting:\n",
      "[1, 9, 11, 77, 84]\n"
     ]
    }
   ],
   "source": [
    "# 2. selection sort\n",
    "\n",
    "def selection_sort(arr):\n",
    "    for i in range(len(arr)):\n",
    "        min=i\n",
    "        \n",
    "        \n",
    "        for j in range(i+1,len(arr)):\n",
    "            if arr[j] < arr[min]:\n",
    "                min=j\n",
    "        arr[min],arr[i]=arr[i],arr[min]        \n",
    "    return arr\n",
    "\n",
    "num_arr=[11,1,77,84,9]\n",
    "print('array before sorting:')\n",
    "print(num_arr)\n",
    "\n",
    "selection_sort(num_arr)\n",
    "\n",
    "print('\\narray after sorting:')\n",
    "print(num_arr)"
   ]
  },
  {
   "cell_type": "code",
   "execution_count": 4,
   "metadata": {},
   "outputs": [
    {
     "name": "stdout",
     "output_type": "stream",
     "text": [
      "array before sorting:\n",
      "[3, 11, 8, 67, 33, 12]\n",
      "\n",
      "array after sorting:\n",
      "[3, 8, 11, 12, 33, 67]\n"
     ]
    }
   ],
   "source": [
    "# 3. quick sort\n",
    "\n",
    "def divide(arr,start,end):\n",
    "    i=(start-1)\n",
    "    pivot=arr[end]\n",
    "        \n",
    "    for j in range(start,end):\n",
    "        if arr[j]< pivot:\n",
    "            i+=1\n",
    "            arr[i],arr[j]=arr[j],arr[i]\n",
    "            \n",
    "    arr[i+1],arr[end]=arr[end],arr[i+1]\n",
    "    return(i+1)\n",
    "\n",
    "def quick_sort(arr,start,end):\n",
    "    if start < end:\n",
    "        pi=divide(arr,start,end)\n",
    "        quick_sort(arr,start,pi-1)\n",
    "        quick_sort(arr,pi+1,end)\n",
    "\n",
    "num_arr=[3,11,8,67,33,12]\n",
    "print('array before sorting:')\n",
    "print(num_arr)\n",
    "\n",
    "quick_sort(num_arr,0,len(num_arr)-1)\n",
    "\n",
    "print('\\narray after sorting:')\n",
    "print(num_arr)"
   ]
  },
  {
   "cell_type": "code",
   "execution_count": 8,
   "metadata": {},
   "outputs": [
    {
     "name": "stdout",
     "output_type": "stream",
     "text": [
      "array before sorting:\n",
      "[83, 11, 8, 67, 33, 12]\n",
      "\n",
      "array after sorting:\n",
      "[8, 11, 12, 33, 67, 83]\n"
     ]
    }
   ],
   "source": [
    "# 4. heap sort\n",
    "\n",
    "def heapify(arr,n,i):\n",
    "    maxi=i\n",
    "    left=2*i+1\n",
    "    right=2*i+2\n",
    "    \n",
    "    if left< n and arr[i] < arr[left]:\n",
    "        maxi=left\n",
    "        \n",
    "    if right < n and arr[maxi] < arr[right]:\n",
    "        maxi=right\n",
    "        \n",
    "    if maxi!=i:\n",
    "        arr[i],arr[maxi]=arr[maxi],arr[i] #swap\n",
    "        \n",
    "        heapify(arr,n,maxi)\n",
    "        \n",
    "def heap_sort(arr):\n",
    "    n=len(arr)\n",
    "    \n",
    "    for i in range(n,-1,-1):\n",
    "        heapify(arr,n,i)\n",
    "        \n",
    "    for i in range(n-1,0,-1):\n",
    "        arr[i],arr[0]=arr[0],arr[i] #swap\n",
    "        heapify(arr,i,0)\n",
    "\n",
    "num_arr=[83,11,8,67,33,12]\n",
    "print('array before sorting:')\n",
    "print(num_arr)\n",
    "\n",
    "heap_sort(num_arr)\n",
    "\n",
    "print('\\narray after sorting:')\n",
    "print(num_arr)"
   ]
  },
  {
   "cell_type": "code",
   "execution_count": 11,
   "metadata": {},
   "outputs": [
    {
     "name": "stdout",
     "output_type": "stream",
     "text": [
      "array before sorting:\n",
      "[23, 11, 85, 7, 47, 28]\n",
      "\n",
      "array after sorting:\n",
      "[7, 11, 23, 28, 47, 85]\n"
     ]
    }
   ],
   "source": [
    "# 5. merge sort\n",
    "\n",
    "def merge_sort(mylist):\n",
    "    if len(mylist)>1:\n",
    "        mid=len(mylist)//2\n",
    "        left=mylist[:mid]\n",
    "        right=mylist[mid:]\n",
    "        \n",
    "        #recursive call on each other\n",
    "        merge_sort(left)\n",
    "        merge_sort(right)\n",
    "        \n",
    "        #iterators for halves\n",
    "        i=0\n",
    "        j=0\n",
    "        \n",
    "        #iterators for main list\n",
    "        k=0\n",
    "        \n",
    "        while i< len(left) and j < len(right):\n",
    "            if left[i] < right[j]:\n",
    "                mylist[k]=left[i]\n",
    "                i+=1\n",
    "            else:\n",
    "                mylist[k]=right[j]\n",
    "                j+=1\n",
    "            k+=1\n",
    "            \n",
    "        while i< len(left):\n",
    "            mylist[k]=left[i]\n",
    "            i+=1\n",
    "            k+=1\n",
    "            \n",
    "        while j < len(right):\n",
    "            mylist[k]=right[j]\n",
    "            j+=1\n",
    "            k+=1\n",
    "            \n",
    "num_arr=[23,11,85,7,47,28]\n",
    "\n",
    "print('array before sorting:')\n",
    "print(num_arr)\n",
    "\n",
    "merge_sort(num_arr)\n",
    "\n",
    "print('\\narray after sorting:')\n",
    "print(num_arr)"
   ]
  },
  {
   "cell_type": "code",
   "execution_count": 12,
   "metadata": {},
   "outputs": [
    {
     "name": "stdout",
     "output_type": "stream",
     "text": [
      "array before sorting:\n",
      "[71, 15, 7, 18, 99]\n",
      "\n",
      "array after sorting:\n",
      "[7, 15, 18, 71, 99]\n"
     ]
    }
   ],
   "source": [
    "# 6. bubble sort\n",
    "\n",
    "def bubble_sort(arr):\n",
    "    def swap(i,j):\n",
    "        arr[i],arr[j]=arr[j],arr[i]\n",
    "        \n",
    "    n=len(arr)\n",
    "    swapped=True\n",
    "    \n",
    "    x=-1\n",
    "    while swapped:\n",
    "        swapped=False\n",
    "        x=x+1\n",
    "        for i in range(1,n-x):\n",
    "            if arr[i-1]>arr[i]:\n",
    "                swap(i-1,i)\n",
    "                swapped=True\n",
    "    return arr            \n",
    "\n",
    "num_arr=[71,15,7,18,99]\n",
    "print('array before sorting:')\n",
    "print(num_arr)\n",
    "\n",
    "bubble_sort(num_arr)\n",
    "\n",
    "print('\\narray after sorting:')\n",
    "print(num_arr)"
   ]
  },
  {
   "cell_type": "code",
   "execution_count": 17,
   "metadata": {},
   "outputs": [
    {
     "name": "stdout",
     "output_type": "stream",
     "text": [
      "array before sorting:\n",
      "[83, 1, 8, 37, 133, 132]\n",
      "\n",
      "array after sorting:\n",
      "[1, 8, 37, 83, 132, 133]\n"
     ]
    }
   ],
   "source": [
    "# 7. bucket 0r radix sort\n",
    "\n",
    "def bucket_sort(alist):\n",
    "    largest=max(alist)\n",
    "    length=len(alist)\n",
    "    size=largest/length\n",
    "    \n",
    "    buckets=[[]for _ in range(length)]\n",
    "    for i in range(length):\n",
    "        j=int(alist[i]/size)\n",
    "        if j!=length:\n",
    "            buckets[j].append(alist[i])\n",
    "        else:\n",
    "            buckets[length-1].append(alist[i])\n",
    "            \n",
    "    for i in range(length):\n",
    "        insertion_sort(buckets[i])\n",
    "        \n",
    "    result=[]\n",
    "    for i in range(length):\n",
    "        result=result+buckets[i]\n",
    "        \n",
    "    return result\n",
    "\n",
    "def insertion_sort(arr):\n",
    "    for i in range(len(arr)):\n",
    "        temp=arr[i]\n",
    "        pos=i\n",
    "        \n",
    "        \n",
    "        while pos>0 and arr[pos-1]>temp:\n",
    "            arr[pos]=arr[pos-1]\n",
    "            pos=pos-1\n",
    "        arr[pos]=temp\n",
    "    return arr\n",
    "\n",
    "        \n",
    "num_arr=[83,1,8,37,133,132]\n",
    "print('array before sorting:')\n",
    "print(num_arr)\n",
    "\n",
    "sorted_arr=bucket_sort(num_arr)\n",
    "\n",
    "print('\\narray after sorting:')\n",
    "print(sorted_arr)"
   ]
  },
  {
   "cell_type": "code",
   "execution_count": null,
   "metadata": {},
   "outputs": [],
   "source": []
  }
 ],
 "metadata": {
  "kernelspec": {
   "display_name": "Python 3",
   "language": "python",
   "name": "python3"
  },
  "language_info": {
   "codemirror_mode": {
    "name": "ipython",
    "version": 3
   },
   "file_extension": ".py",
   "mimetype": "text/x-python",
   "name": "python",
   "nbconvert_exporter": "python",
   "pygments_lexer": "ipython3",
   "version": "3.7.6"
  }
 },
 "nbformat": 4,
 "nbformat_minor": 4
}
